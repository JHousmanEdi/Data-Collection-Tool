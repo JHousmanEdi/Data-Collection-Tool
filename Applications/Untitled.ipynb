{
 "cells": [
  {
   "cell_type": "code",
   "execution_count": 3,
   "metadata": {
    "collapsed": true
   },
   "outputs": [],
   "source": [
    "import csv\n",
    "import os"
   ]
  },
  {
   "cell_type": "code",
   "execution_count": 29,
   "metadata": {
    "collapsed": false
   },
   "outputs": [],
   "source": [
    "cities = []\n",
    "ids = []\n",
    "month = []\n",
    "day = []\n",
    "state = []\n",
    "url = []\n",
    "RA = []\n",
    "\n",
    "csv_path = os.path.join(os.getcwd(), \"scraped_items.csv\")\n",
    "with open(csv_path, 'rb') as csvfile:\n",
    "    scraper_reader = csv.DictReader(csvfile)\n",
    "    for row in scraper_reader:\n",
    "            cities.append(row['City'])\n",
    "            ids.append(row['CL_ID'])\n",
    "            month.append(row['Month'])\n",
    "            day.append(row['Day'])\n",
    "            state.append(row['State'])\n",
    "            url.append(row['url'])\n",
    "            RA.append(row['RA'])\n",
    "        \n",
    "    "
   ]
  },
  {
   "cell_type": "code",
   "execution_count": 31,
   "metadata": {
    "collapsed": false
   },
   "outputs": [],
   "source": [
    "vals = {'City': cities, 'CL_ID':ids, 'Month':month, 'State':state, 'url':url, 'RA':RA}"
   ]
  },
  {
   "cell_type": "code",
   "execution_count": 33,
   "metadata": {
    "collapsed": false
   },
   "outputs": [
    {
     "data": {
      "text/plain": [
       "'albuquerque'"
      ]
     },
     "execution_count": 33,
     "metadata": {},
     "output_type": "execute_result"
    }
   ],
   "source": [
    "vals['City'][0]"
   ]
  },
  {
   "cell_type": "code",
   "execution_count": null,
   "metadata": {
    "collapsed": true
   },
   "outputs": [],
   "source": []
  }
 ],
 "metadata": {
  "kernelspec": {
   "display_name": "Python 2",
   "language": "python",
   "name": "python2"
  },
  "language_info": {
   "codemirror_mode": {
    "name": "ipython",
    "version": 2
   },
   "file_extension": ".py",
   "mimetype": "text/x-python",
   "name": "python",
   "nbconvert_exporter": "python",
   "pygments_lexer": "ipython2",
   "version": "2.7.12"
  }
 },
 "nbformat": 4,
 "nbformat_minor": 2
}
