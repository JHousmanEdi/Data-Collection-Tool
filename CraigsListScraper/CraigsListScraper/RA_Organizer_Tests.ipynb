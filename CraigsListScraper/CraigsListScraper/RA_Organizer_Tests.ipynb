{
 "cells": [
  {
   "cell_type": "code",
   "execution_count": 3,
   "metadata": {
    "collapsed": false,
    "deletable": true,
    "editable": true
   },
   "outputs": [],
   "source": [
    "import RAOrganizer\n",
    "import pandas as pd\n",
    "import re\n",
    "from collections import defaultdict\n",
    "import collections\n",
    "import os"
   ]
  },
  {
   "cell_type": "code",
   "execution_count": 2,
   "metadata": {
    "collapsed": true,
    "deletable": true,
    "editable": true
   },
   "outputs": [],
   "source": [
    "RA_Table = pd.read_csv('/home/jason/Documents/Data-Collection-Tool/CraigsListScraper/CraigsListScraper/Data/RA_Mapping.csv')"
   ]
  },
  {
   "cell_type": "code",
   "execution_count": 3,
   "metadata": {
    "collapsed": true,
    "deletable": true,
    "editable": true
   },
   "outputs": [],
   "source": [
    "RAs = RA_Table[\"RA\"].tolist()\n",
    "RAlist = []\n",
    "for index, RA in enumerate(RAs):\n",
    "    RAlist.append(RAOrganizer.RAAssignment(RA))\n",
    "    RAlist[index].GetURLS()\n",
    "    "
   ]
  },
  {
   "cell_type": "code",
   "execution_count": 4,
   "metadata": {
    "collapsed": false,
    "deletable": true,
    "editable": true
   },
   "outputs": [
    {
     "data": {
      "text/plain": [
       "['https://newyork.craigslist.org/search/mnh/sec',\n",
       " 'https://newyork.craigslist.org/search/brk/sec',\n",
       " 'https://newyork.craigslist.org/search/que/sec',\n",
       " 'https://newyork.craigslist.org/search/brx/sec',\n",
       " 'https://billings.craigslist.org/search/sec',\n",
       " 'https://phoenix.craigslist.org/search/sec',\n",
       " 'https://siouxfalls.craigslist.org/search/sec']"
      ]
     },
     "execution_count": 4,
     "metadata": {},
     "output_type": "execute_result"
    }
   ],
   "source": [
    "RAlist[0].URL_Container"
   ]
  },
  {
   "cell_type": "code",
   "execution_count": null,
   "metadata": {
    "collapsed": true,
    "deletable": true,
    "editable": true
   },
   "outputs": [],
   "source": []
  },
  {
   "cell_type": "code",
   "execution_count": 5,
   "metadata": {
    "collapsed": false,
    "deletable": true,
    "editable": true
   },
   "outputs": [],
   "source": [
    "all_urls = []\n",
    "all_urls_by_RA = defaultdict(list)\n",
    "RE_D = re.compile('\\d')\n",
    "for i in RAlist:\n",
    "    RA_Urls = []\n",
    "    twojobs = False\n",
    "    name = i.RA\n",
    "    if RE_D.search(name) is not None:\n",
    "        name = name[:-1]\n",
    "        twojobs = True\n",
    "    elif RE_D.search(name) is None:\n",
    "        name = name\n",
    "    for j in i.URL_Container:\n",
    "        if j not in all_urls:\n",
    "            all_urls.append(j)\n",
    "            RA_Urls.append(j)\n",
    "        else:\n",
    "            RA_Urls.append(j)\n",
    "    if twojobs == False:\n",
    "        all_urls_by_RA[name] = RA_Urls\n",
    "    if twojobs == True:\n",
    "        all_urls_by_RA[name].extend(RA_Urls)    \n",
    "        \n"
   ]
  },
  {
   "cell_type": "code",
   "execution_count": 8,
   "metadata": {
    "collapsed": false,
    "deletable": true,
    "editable": true
   },
   "outputs": [
    {
     "data": {
      "text/plain": [
       "['https://newyork.craigslist.org/search/mnh/sec',\n",
       " 'https://newyork.craigslist.org/search/brk/sec',\n",
       " 'https://newyork.craigslist.org/search/que/sec',\n",
       " 'https://newyork.craigslist.org/search/brx/sec',\n",
       " 'https://billings.craigslist.org/search/sec',\n",
       " 'https://phoenix.craigslist.org/search/sec',\n",
       " 'https://siouxfalls.craigslist.org/search/sec',\n",
       " 'https://anchorage.craigslist.org/search/ret',\n",
       " 'https://chicago.craigslist.org/search/chc/sec',\n",
       " 'https://chicago.craigslist.org/search/nch/sec',\n",
       " 'https://chicago.craigslist.org/search/wcl/sec',\n",
       " 'https://chicago.craigslist.org/search/sox/sec',\n",
       " 'https://oklahomacity.craigslist.org/search/sec',\n",
       " 'https://albuquerque.craigslist.org/search/sec',\n",
       " 'https://honolulu.craigslist.org/search/sec',\n",
       " 'https://newyork.craigslist.org/search/mnh/lab',\n",
       " 'https://newyork.craigslist.org/search/brk/lab',\n",
       " 'https://newyork.craigslist.org/search/que/lab',\n",
       " 'https://newyork.craigslist.org/search/brx/lab',\n",
       " 'https://billings.craigslist.org/search/lab',\n",
       " 'https://phoenix.craigslist.org/search/lab',\n",
       " 'https://siouxfalls.craigslist.org/search/lab',\n",
       " 'https://losangeles.craigslist.org/search/wst/lab',\n",
       " 'https://losangeles.craigslist.org/search/sfv/lab',\n",
       " 'https://losangeles.craigslist.org/search/lac/lab',\n",
       " 'https://losangeles.craigslist.org/search/sgv/lab',\n",
       " 'https://losangeles.craigslist.org/search/lgb/lab',\n",
       " 'https://anchorage.craigslist.org/search/lab',\n",
       " 'https://houston.craigslist.org/search/lab',\n",
       " 'https://oklahomacity.craigslist.org/search/fbh',\n",
       " 'https://houston.craigslist.org/search/fbh',\n",
       " 'https://anchorage.craigslist.org/search/fbh',\n",
       " 'https://honolulu.craigslist.org/search/fbh',\n",
       " 'https://albuquerque.craigslist.org/search/ret',\n",
       " 'https://honolulu.craigslist.org/search/ret',\n",
       " 'https://phoenix.craigslist.org/search/fbh',\n",
       " 'https://chicago.craigslist.org/search/chc/fbh',\n",
       " 'https://chicago.craigslist.org/search/nch/fbh',\n",
       " 'https://chicago.craigslist.org/search/wcl/fbh',\n",
       " 'https://chicago.craigslist.org/search/sox/fbh',\n",
       " 'https://newyork.craigslist.org/search/mnh/fbh',\n",
       " 'https://newyork.craigslist.org/search/brk/fbh',\n",
       " 'https://newyork.craigslist.org/search/que/fbh',\n",
       " 'https://newyork.craigslist.org/search/brx/fbh',\n",
       " 'https://billings.craigslist.org/search/fbh',\n",
       " 'https://chicago.craigslist.org/search/chc/lab',\n",
       " 'https://chicago.craigslist.org/search/nch/lab',\n",
       " 'https://chicago.craigslist.org/search/wcl/lab',\n",
       " 'https://chicago.craigslist.org/search/sox/lab',\n",
       " 'https://oklahomacity.craigslist.org/search/lab',\n",
       " 'https://albuquerque.craigslist.org/search/lab',\n",
       " 'https://siouxfalls.craigslist.org/search/ret',\n",
       " 'https://oklahomacity.craigslist.org/search/ret',\n",
       " 'https://houston.craigslist.org/search/ret',\n",
       " 'https://albuquerque.craigslist.org/search/fbh',\n",
       " 'https://chicago.craigslist.org/search/chc/ret',\n",
       " 'https://chicago.craigslist.org/search/nch/ret',\n",
       " 'https://chicago.craigslist.org/search/wcl/ret',\n",
       " 'https://chicago.craigslist.org/search/sox/ret',\n",
       " 'https://billings.craigslist.org/search/ret',\n",
       " 'https://losangeles.craigslist.org/search/wst/fbh',\n",
       " 'https://losangeles.craigslist.org/search/sfv/fbh',\n",
       " 'https://losangeles.craigslist.org/search/lac/fbh',\n",
       " 'https://losangeles.craigslist.org/search/sgv/fbh',\n",
       " 'https://losangeles.craigslist.org/search/lgb/fbh',\n",
       " 'https://siouxfalls.craigslist.org/search/fbh',\n",
       " 'https://losangeles.craigslist.org/search/wst/sec',\n",
       " 'https://losangeles.craigslist.org/search/sfv/sec',\n",
       " 'https://losangeles.craigslist.org/search/lac/sec',\n",
       " 'https://losangeles.craigslist.org/search/sgv/sec',\n",
       " 'https://losangeles.craigslist.org/search/lgb/sec',\n",
       " 'https://anchorage.craigslist.org/search/sec',\n",
       " 'https://houston.craigslist.org/search/sec',\n",
       " 'https://newyork.craigslist.org/search/mnh/ret',\n",
       " 'https://newyork.craigslist.org/search/brk/ret',\n",
       " 'https://newyork.craigslist.org/search/que/ret',\n",
       " 'https://newyork.craigslist.org/search/brx/ret',\n",
       " 'https://losangeles.craigslist.org/search/wst/ret',\n",
       " 'https://losangeles.craigslist.org/search/sfv/ret',\n",
       " 'https://losangeles.craigslist.org/search/lac/ret',\n",
       " 'https://losangeles.craigslist.org/search/sgv/ret',\n",
       " 'https://losangeles.craigslist.org/search/lgb/ret']"
      ]
     },
     "execution_count": 8,
     "metadata": {},
     "output_type": "execute_result"
    }
   ],
   "source": [
    "all_urls"
   ]
  },
  {
   "cell_type": "code",
   "execution_count": 9,
   "metadata": {
    "collapsed": false,
    "deletable": true,
    "editable": true
   },
   "outputs": [],
   "source": [
    "urls = []\n",
    "for key, values in all_urls_by_RA.items():\n",
    "    urls.extend(values)"
   ]
  },
  {
   "cell_type": "code",
   "execution_count": 10,
   "metadata": {
    "collapsed": false,
    "deletable": true,
    "editable": true
   },
   "outputs": [],
   "source": [
    "shared = [item for item, count in collections.Counter(urls).items() if count > 1]\n"
   ]
  },
  {
   "cell_type": "code",
   "execution_count": 11,
   "metadata": {
    "collapsed": false,
    "deletable": true,
    "editable": true
   },
   "outputs": [
    {
     "data": {
      "text/plain": [
       "['https://newyork.craigslist.org/search/que/fbh',\n",
       " 'https://newyork.craigslist.org/search/mnh/fbh',\n",
       " 'https://newyork.craigslist.org/search/brk/fbh',\n",
       " 'https://newyork.craigslist.org/search/brx/fbh',\n",
       " 'https://losangeles.craigslist.org/search/lgb/fbh',\n",
       " 'https://losangeles.craigslist.org/search/wst/fbh',\n",
       " 'https://losangeles.craigslist.org/search/sgv/fbh',\n",
       " 'https://honolulu.craigslist.org/search/ret',\n",
       " 'https://losangeles.craigslist.org/search/lac/fbh',\n",
       " 'https://losangeles.craigslist.org/search/sfv/fbh']"
      ]
     },
     "execution_count": 11,
     "metadata": {},
     "output_type": "execute_result"
    }
   ],
   "source": [
    "shared"
   ]
  },
  {
   "cell_type": "code",
   "execution_count": 13,
   "metadata": {
    "collapsed": false,
    "deletable": true,
    "editable": true
   },
   "outputs": [],
   "source": [
    "shared_regions = defaultdict(list)\n",
    "for key, values in all_urls_by_RA.items():\n",
    "    for i in values:\n",
    "        if i in shared:\n",
    "            shared_regions[i].append(key)"
   ]
  },
  {
   "cell_type": "code",
   "execution_count": 14,
   "metadata": {
    "collapsed": false,
    "deletable": true,
    "editable": true
   },
   "outputs": [
    {
     "data": {
      "text/plain": [
       "defaultdict(list,\n",
       "            {'https://honolulu.craigslist.org/search/ret': ['Cathy Balfe',\n",
       "              'Jinlong Shi'],\n",
       "             'https://losangeles.craigslist.org/search/lac/fbh': ['Tiantian Tang',\n",
       "              'Connor Crowley'],\n",
       "             'https://losangeles.craigslist.org/search/lgb/fbh': ['Tiantian Tang',\n",
       "              'Connor Crowley'],\n",
       "             'https://losangeles.craigslist.org/search/sfv/fbh': ['Tiantian Tang',\n",
       "              'Connor Crowley'],\n",
       "             'https://losangeles.craigslist.org/search/sgv/fbh': ['Tiantian Tang',\n",
       "              'Connor Crowley'],\n",
       "             'https://losangeles.craigslist.org/search/wst/fbh': ['Tiantian Tang',\n",
       "              'Connor Crowley'],\n",
       "             'https://newyork.craigslist.org/search/brk/fbh': ['Aubrey Wang',\n",
       "              'Alec Stewart'],\n",
       "             'https://newyork.craigslist.org/search/brx/fbh': ['Aubrey Wang',\n",
       "              'Alec Stewart'],\n",
       "             'https://newyork.craigslist.org/search/mnh/fbh': ['Aubrey Wang',\n",
       "              'Alec Stewart'],\n",
       "             'https://newyork.craigslist.org/search/que/fbh': ['Aubrey Wang',\n",
       "              'Alec Stewart']})"
      ]
     },
     "execution_count": 14,
     "metadata": {},
     "output_type": "execute_result"
    }
   ],
   "source": [
    "shared_regions"
   ]
  },
  {
   "cell_type": "code",
   "execution_count": 16,
   "metadata": {
    "collapsed": false,
    "deletable": true,
    "editable": true
   },
   "outputs": [
    {
     "name": "stdout",
     "output_type": "stream",
     "text": [
      "confirmed\n"
     ]
    }
   ],
   "source": [
    "if \"hello\" not in shared_regions.keys():\n",
    "    print(\"confirmed\")"
   ]
  },
  {
   "cell_type": "code",
   "execution_count": 17,
   "metadata": {
    "collapsed": true,
    "deletable": true,
    "editable": true
   },
   "outputs": [],
   "source": [
    "import random"
   ]
  },
  {
   "cell_type": "code",
   "execution_count": 19,
   "metadata": {
    "collapsed": false,
    "deletable": true,
    "editable": true
   },
   "outputs": [
    {
     "data": {
      "text/plain": [
       "'Cathy Balfe'"
      ]
     },
     "execution_count": 19,
     "metadata": {},
     "output_type": "execute_result"
    }
   ],
   "source": [
    "random.choice(shared_regions['https://honolulu.craigslist.org/search/ret'])"
   ]
  },
  {
   "cell_type": "code",
   "execution_count": 29,
   "metadata": {
    "collapsed": false,
    "deletable": true,
    "editable": true
   },
   "outputs": [
    {
     "name": "stdout",
     "output_type": "stream",
     "text": [
      "Bomku Han\n"
     ]
    }
   ],
   "source": [
    "url = 'https://losangeles.craigslist.org/search/lac/ret'\n",
    "if url in shared_regions.keys():\n",
    "    RA = random.choice(shared_regions[url])\n",
    "else:\n",
    "    for key, values, in all_urls_by_RA.items():\n",
    "        for i in values:\n",
    "            if i ==url:\n",
    "                RA = key\n",
    "print(RA)"
   ]
  },
  {
   "cell_type": "code",
   "execution_count": 7,
   "metadata": {
    "collapsed": false,
    "deletable": true,
    "editable": true
   },
   "outputs": [],
   "source": [
    "scraped = os.path.join(os.getcwd(), \"scraped_items.csv\")\n",
    "scraped_df = pd.read_csv(scraped)"
   ]
  },
  {
   "cell_type": "code",
   "execution_count": 16,
   "metadata": {
    "collapsed": false
   },
   "outputs": [],
   "source": [
    "RAs = scraped_df['RA'].unique()"
   ]
  },
  {
   "cell_type": "code",
   "execution_count": 11,
   "metadata": {
    "collapsed": false
   },
   "outputs": [],
   "source": [
    "jennifer = scraped_df.loc[scraped_df.RA == \"Jennifer Kallenburg\"]"
   ]
  },
  {
   "cell_type": "code",
   "execution_count": 19,
   "metadata": {
    "collapsed": false
   },
   "outputs": [],
   "source": [
    "dataframes = []\n",
    "for index, i in enumerate(RAs):\n",
    "    dataframes.append(scraped_df.loc[scraped_df.RA==i])\n",
    "    save_path = os.path.join(os.getcwd(), \"RA_Sheets\", i+\".csv\")\n",
    "    dataframes[index].to_csv(save_path)"
   ]
  },
  {
   "cell_type": "code",
   "execution_count": null,
   "metadata": {
    "collapsed": true
   },
   "outputs": [],
   "source": []
  }
 ],
 "metadata": {
  "kernelspec": {
   "display_name": "Python 2",
   "language": "python",
   "name": "python2"
  },
  "language_info": {
   "codemirror_mode": {
    "name": "ipython",
    "version": 2
   },
   "file_extension": ".py",
   "mimetype": "text/x-python",
   "name": "python",
   "nbconvert_exporter": "python",
   "pygments_lexer": "ipython2",
   "version": "2.7.12"
  }
 },
 "nbformat": 4,
 "nbformat_minor": 2
}
