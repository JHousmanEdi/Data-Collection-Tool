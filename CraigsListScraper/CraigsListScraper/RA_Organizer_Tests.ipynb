{
 "cells": [
  {
   "cell_type": "code",
   "execution_count": 23,
   "metadata": {},
   "outputs": [],
   "source": [
    "import RAOrganizer\n",
    "import pandas as pd\n",
    "import RE\n"
   ]
  },
  {
   "cell_type": "code",
   "execution_count": 24,
   "metadata": {
    "collapsed": true
   },
   "outputs": [],
   "source": [
    "RA_Table = pd.read_csv('/home/jason/Documents/Data-Collection-Tool/CraigsListScraper/CraigsListScraper/Data/RA_Mapping.csv')"
   ]
  },
  {
   "cell_type": "code",
   "execution_count": 32,
   "metadata": {},
   "outputs": [],
   "source": [
    "RAs = RA_Table[\"RA\"].tolist()\n",
    "RAlist = []\n",
    "for index, RA in enumerate(RAs):\n",
    "    RAlist.append(RAOrganizer.RAAssignment(RA))\n",
    "    RAlist[index].GetURLS()\n",
    "    "
   ]
  },
  {
   "cell_type": "code",
   "execution_count": 26,
   "metadata": {},
   "outputs": [],
   "source": [
    "for i in RAlist:\n",
    "    i.GetURLS()"
   ]
  },
  {
   "cell_type": "code",
   "execution_count": 83,
   "metadata": {},
   "outputs": [
    {
     "ename": "AttributeError",
     "evalue": "'list' object has no attribute 'values'",
     "output_type": "error",
     "traceback": [
      "\u001b[0;31m---------------------------------------------------------------------------\u001b[0m",
      "\u001b[0;31mAttributeError\u001b[0m                            Traceback (most recent call last)",
      "\u001b[0;32m<ipython-input-83-b4bac0483b9f>\u001b[0m in \u001b[0;36m<module>\u001b[0;34m()\u001b[0m\n\u001b[1;32m     20\u001b[0m         \u001b[0mall_urls_RA\u001b[0m\u001b[0;34m[\u001b[0m\u001b[0mname\u001b[0m\u001b[0;34m]\u001b[0m \u001b[0;34m=\u001b[0m \u001b[0mRA_Urls\u001b[0m\u001b[0;34m\u001b[0m\u001b[0m\n\u001b[1;32m     21\u001b[0m     \u001b[0;32mif\u001b[0m \u001b[0mname\u001b[0m \u001b[0;32min\u001b[0m \u001b[0mall_urls_RA\u001b[0m\u001b[0;34m.\u001b[0m\u001b[0mkeys\u001b[0m\u001b[0;34m(\u001b[0m\u001b[0;34m)\u001b[0m\u001b[0;34m:\u001b[0m\u001b[0;34m\u001b[0m\u001b[0m\n\u001b[0;32m---> 22\u001b[0;31m         \u001b[0mall_urls_RA\u001b[0m\u001b[0;34m[\u001b[0m\u001b[0mname\u001b[0m\u001b[0;34m]\u001b[0m\u001b[0;34m.\u001b[0m\u001b[0mvalues\u001b[0m\u001b[0;34m(\u001b[0m\u001b[0;34m)\u001b[0m \u001b[0;34m+\u001b[0m \u001b[0mRA_Urls\u001b[0m\u001b[0;34m\u001b[0m\u001b[0m\n\u001b[0m\u001b[1;32m     23\u001b[0m     \u001b[0mRA_Urls\u001b[0m \u001b[0;34m=\u001b[0m \u001b[0;34m[\u001b[0m\u001b[0;34m]\u001b[0m\u001b[0;34m\u001b[0m\u001b[0m\n\u001b[1;32m     24\u001b[0m \u001b[0;34m\u001b[0m\u001b[0m\n",
      "\u001b[0;31mAttributeError\u001b[0m: 'list' object has no attribute 'values'"
     ]
    }
   ],
   "source": [
    "all_urls = []\n",
    "all_urls_RA = {}\n",
    "RA_Urls = []\n",
    "RE_D = re.compile('\\d')\n",
    "for i in RAlist:\n",
    "    name = i.RA\n",
    "    if RE_D.search(name) is not None:\n",
    "        name = name[:-1]\n",
    "        twojobs = True\n",
    "    if RE_D.search(name) is None:\n",
    "        name = name\n",
    "    for j in i.URL_Container:\n",
    "        if j not in all_urls:\n",
    "            all_urls.append(j)\n",
    "            RA_Urls.append(j)\n",
    "        else:\n",
    "            all_urls_RA[name] = j\n",
    "            RA_Urls.append(j)\n",
    "    if name not in all_urls_RA.keys():\n",
    "        all_urls_RA[name] = RA_Urls\n",
    "    if name in all_urls_RA.keys():\n",
    "        all_urls_RA[name].val + RA_Urls\n",
    "    RA_Urls = []\n",
    "        \n"
   ]
  },
  {
   "cell_type": "code",
   "execution_count": 81,
   "metadata": {},
   "outputs": [
    {
     "data": {
      "text/plain": [
       "{'Alec Stewart': ['https://newyork.craigslist.org/search/mnh/fbh',\n",
       "  'https://newyork.craigslist.org/search/brk/fbh',\n",
       "  'https://newyork.craigslist.org/search/que/fbh',\n",
       "  'https://newyork.craigslist.org/search/brx/fbh'],\n",
       " 'Aubrey Wang': ['https://newyork.craigslist.org/search/mnh/fbh',\n",
       "  'https://newyork.craigslist.org/search/brk/fbh',\n",
       "  'https://newyork.craigslist.org/search/que/fbh',\n",
       "  'https://newyork.craigslist.org/search/brx/fbh',\n",
       "  'https://billings.craigslist.org/search/fbh'],\n",
       " 'Bomku Han': ['https://losangeles.craigslist.org/search/wst/ret',\n",
       "  'https://losangeles.craigslist.org/search/sfv/ret',\n",
       "  'https://losangeles.craigslist.org/search/lac/ret',\n",
       "  'https://losangeles.craigslist.org/search/sgv/ret',\n",
       "  'https://losangeles.craigslist.org/search/lgb/ret'],\n",
       " 'Cathy Balfe': ['https://albuquerque.craigslist.org/search/ret',\n",
       "  'https://honolulu.craigslist.org/search/ret'],\n",
       " 'Christopher Pennanen': ['https://newyork.craigslist.org/search/mnh/ret',\n",
       "  'https://newyork.craigslist.org/search/brk/ret',\n",
       "  'https://newyork.craigslist.org/search/que/ret',\n",
       "  'https://newyork.craigslist.org/search/brx/ret'],\n",
       " 'Connor Crowley': ['https://losangeles.craigslist.org/search/wst/fbh',\n",
       "  'https://losangeles.craigslist.org/search/sfv/fbh',\n",
       "  'https://losangeles.craigslist.org/search/lac/fbh',\n",
       "  'https://losangeles.craigslist.org/search/sgv/fbh',\n",
       "  'https://losangeles.craigslist.org/search/lgb/fbh'],\n",
       " 'Emmarose Glaser': ['https://oklahomacity.craigslist.org/search/fbh',\n",
       "  'https://houston.craigslist.org/search/fbh'],\n",
       " 'Ethan May': ['https://anchorage.craigslist.org/search/fbh',\n",
       "  'https://honolulu.craigslist.org/search/fbh'],\n",
       " 'Hunter Spires': ['https://chicago.craigslist.org/search/chc/fbh',\n",
       "  'https://chicago.craigslist.org/search/nch/fbh',\n",
       "  'https://chicago.craigslist.org/search/wcl/fbh',\n",
       "  'https://chicago.craigslist.org/search/sox/fbh'],\n",
       " 'Jennifer Kallenburg': ['https://chicago.craigslist.org/search/chc/sec',\n",
       "  'https://chicago.craigslist.org/search/nch/sec',\n",
       "  'https://chicago.craigslist.org/search/wcl/sec',\n",
       "  'https://chicago.craigslist.org/search/sox/sec',\n",
       "  'https://oklahomacity.craigslist.org/search/sec',\n",
       "  'https://albuquerque.craigslist.org/search/sec',\n",
       "  'https://honolulu.craigslist.org/search/sec'],\n",
       " 'Jinlong Shi': ['https://honolulu.craigslist.org/search/ret'],\n",
       " 'Julia Levy': ['https://newyork.craigslist.org/search/mnh/lab',\n",
       "  'https://newyork.craigslist.org/search/brk/lab',\n",
       "  'https://newyork.craigslist.org/search/que/lab',\n",
       "  'https://newyork.craigslist.org/search/brx/lab',\n",
       "  'https://billings.craigslist.org/search/lab',\n",
       "  'https://phoenix.craigslist.org/search/lab',\n",
       "  'https://siouxfalls.craigslist.org/search/lab'],\n",
       " 'Keenan Lang-Backe': ['https://albuquerque.craigslist.org/search/fbh'],\n",
       " 'Kendall Knuth': ['https://newyork.craigslist.org/search/mnh/sec',\n",
       "  'https://newyork.craigslist.org/search/brk/sec',\n",
       "  'https://newyork.craigslist.org/search/que/sec',\n",
       "  'https://newyork.craigslist.org/search/brx/sec',\n",
       "  'https://billings.craigslist.org/search/sec',\n",
       "  'https://phoenix.craigslist.org/search/sec',\n",
       "  'https://siouxfalls.craigslist.org/search/sec'],\n",
       " 'Natalie George': ['https://losangeles.craigslist.org/search/wst/lab',\n",
       "  'https://losangeles.craigslist.org/search/sfv/lab',\n",
       "  'https://losangeles.craigslist.org/search/lac/lab',\n",
       "  'https://losangeles.craigslist.org/search/sgv/lab',\n",
       "  'https://losangeles.craigslist.org/search/lgb/lab',\n",
       "  'https://anchorage.craigslist.org/search/lab',\n",
       "  'https://houston.craigslist.org/search/lab'],\n",
       " 'Samuel Richi': ['https://phoenix.craigslist.org/search/fbh'],\n",
       " 'Savannah Strachan': ['https://anchorage.craigslist.org/search/ret'],\n",
       " 'TiantianTang': ['https://losangeles.craigslist.org/search/wst/fbh',\n",
       "  'https://losangeles.craigslist.org/search/sfv/fbh',\n",
       "  'https://losangeles.craigslist.org/search/lac/fbh',\n",
       "  'https://losangeles.craigslist.org/search/sgv/fbh',\n",
       "  'https://losangeles.craigslist.org/search/lgb/fbh',\n",
       "  'https://siouxfalls.craigslist.org/search/fbh']}"
      ]
     },
     "execution_count": 81,
     "metadata": {},
     "output_type": "execute_result"
    }
   ],
   "source": [
    "all_urls_RA"
   ]
  },
  {
   "cell_type": "code",
   "execution_count": 62,
   "metadata": {},
   "outputs": [],
   "source": [
    "import re"
   ]
  },
  {
   "cell_type": "code",
   "execution_count": 63,
   "metadata": {},
   "outputs": [],
   "source": [
    "RE_D = re.compile('\\d')\n",
    "def f3(string):\n",
    "    return RE_D.search(string)\n"
   ]
  },
  {
   "cell_type": "code",
   "execution_count": 69,
   "metadata": {},
   "outputs": [
    {
     "name": "stdout",
     "output_type": "stream",
     "text": [
      "<_sre.SRE_Match object at 0x7f7ec22d7168>\n"
     ]
    }
   ],
   "source": [
    "print(f3(RAlist[12].RA))"
   ]
  },
  {
   "cell_type": "code",
   "execution_count": null,
   "metadata": {
    "collapsed": true
   },
   "outputs": [],
   "source": []
  }
 ],
 "metadata": {
  "kernelspec": {
   "display_name": "Python 2",
   "language": "python",
   "name": "python2"
  },
  "language_info": {
   "codemirror_mode": {
    "name": "ipython",
    "version": 2
   },
   "file_extension": ".py",
   "mimetype": "text/x-python",
   "name": "python",
   "nbconvert_exporter": "python",
   "pygments_lexer": "ipython2",
   "version": "2.7.12"
  }
 },
 "nbformat": 4,
 "nbformat_minor": 2
}
